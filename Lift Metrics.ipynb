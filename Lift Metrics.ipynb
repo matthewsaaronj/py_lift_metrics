{
 "cells": [
  {
   "cell_type": "markdown",
   "metadata": {},
   "source": [
    "These are working functions, but are not optimized. Each function takes a pandas DataFrame as input with a true class label and predicted probabilities."
   ]
  },
  {
   "cell_type": "markdown",
   "metadata": {},
   "source": [
    "## Cumulative Captured Response\n",
    "\n",
    "Returns both a dictionary and dataframe with underlying data for captured response. Can easily plot the cumulative caputured response curve using output."
   ]
  },
  {
   "cell_type": "code",
   "execution_count": null,
   "metadata": {
    "collapsed": true
   },
   "outputs": [],
   "source": [
    "# define CCR function:\n",
    "def calc_ccr(df, true_class):\n",
    "    df = df.copy()\n",
    "    \n",
    "    '''\n",
    "    Need to move the true class to the front of the dataframe\n",
    "    '''\n",
    "    temp_class = df[true_class]\n",
    "    \n",
    "    if 'true_class' in df:\n",
    "        df.drop('true_class', axis = 1, inplace = True)\n",
    "    else:\n",
    "        df.drop(true_class, axis = 1, inplace = True)\n",
    "        \n",
    "    df.insert(0, 'true_class', temp_class)\n",
    "    del temp_class\n",
    "    \n",
    "    ccr_dict = {}\n",
    "    \n",
    "    p_names = df.iloc[:, 1:].columns\n",
    "    \n",
    "    for x in p_names:\n",
    "        df = df.sort_values(x, ascending = False)\n",
    "        ccr_df = pd.DataFrame([i for i in range(1, df.shape[0] + 1, 1)])\n",
    "        ccr_df[x] = np.array(df[x])\n",
    "        ccr_df['true_class'] = np.array(df['true_class'])\n",
    "        ccr_df.columns = ['n', 'prob', 'tc']\n",
    "        ccr_df['cum_positives'] = ccr_df['tc'].cumsum()\n",
    "        ccr_df['perc_samples_found'] = ccr_df['cum_positives'] / ccr_df['tc'].sum()\n",
    "        ccr_df['perc_samples_tested'] = ccr_df['n'] / ccr_df['n'].max()\n",
    "        ccr_df['model'] = x\n",
    "        ccr_dict[x] = ccr_df\n",
    "        \n",
    "    keys = list(ccr_dict.keys())\n",
    "    \n",
    "    # initialize dataframe with first model\n",
    "    ccr_frame = pd.DataFrame(ccr_dict[keys[0]])\n",
    "    \n",
    "    for key in keys[1:]:\n",
    "        ccr_frame = pd.concat([ccr_frame, ccr_dict[key]])\n",
    "    \n",
    "    return list([ccr_dict, ccr_frame])"
   ]
  },
  {
   "cell_type": "markdown",
   "metadata": {},
   "source": [
    "## Lift Curve\n",
    "\n",
    "Takes a pandas DataFrame as input, with a true class and predicted probabilities. The 'cum' argument allows user to specify whether cumulative lift should be calculated."
   ]
  },
  {
   "cell_type": "code",
   "execution_count": 2,
   "metadata": {
    "collapsed": true
   },
   "outputs": [],
   "source": [
    "def calc_lift(df, true_class, cum = False):\n",
    "    df = df.copy()\n",
    "    \n",
    "    base_rate = df[true_class].sum() / df[true_class].count()\n",
    "    \n",
    "    '''\n",
    "    Need to move the true class to the front of the dataframe\n",
    "    '''\n",
    "    \n",
    "    temp_class = df[true_class]\n",
    "    \n",
    "    if 'true_class' in df:\n",
    "        df.drop('true_class', axis = 1, inplace = True)\n",
    "    else:\n",
    "        df.drop(true_class, axis = 1, inplace = True)\n",
    "        \n",
    "    df.insert(0, 'true_class', temp_class)\n",
    "    del temp_class\n",
    "    \n",
    "    def pct_rank_qcut(series, n):\n",
    "        edges = pd.Series([float(i) / n for i in range(n + 1)])\n",
    "        f = lambda x: (edges >= x).argmax()\n",
    "        return series.rank(pct = True).apply(f)\n",
    "    \n",
    "    lift_dict = {}\n",
    "    p_names = df.iloc[:, 1:].columns\n",
    "    \n",
    "    for x in p_names:\n",
    "        df = df.sort_values(x, ascending = False)\n",
    "        df['bin'] = pct_rank_qcut(df[x], 100)\n",
    "        lift_df_1 = pd.DataFrame(df.groupby('bin')[x].max())\n",
    "        lift_df_2 = pd.DataFrame(df.groupby('bin')[x].count())\n",
    "        lift_df_3 = pd.DataFrame(df.groupby('bin')['true_class'].sum())\n",
    "        \n",
    "        lift_df = pd.merge(lift_df_1, lift_df_2, left_index = True, right_index = True)\n",
    "        lift_df = pd.merge(lift_df, lift_df_3, left_index = True, right_index = True)\n",
    "        lift_df.columns = ['prob_thres','n','positives']\n",
    "        lift_df['random'] = base_rate * lift_df['n']\n",
    "        lift_df['lift'] = ((lift_df['positives'] * 1.0) / lift_df['n']) / base_rate\n",
    "        lift_df = lift_df.sort_values('prob_thres', ascending = False)\n",
    "        lift_df['rand_perc'] = lift_df['random'].cumsum() / lift_df['random'].sum()\n",
    "        if cum == True:\n",
    "            lift_df['cum_n'] = lift_df['n'].cumsum()\n",
    "            lift_df['cum_positives'] = lift_df['positives'].cumsum()\n",
    "            lift_df['cum_random'] = base_rate * lift_df['cum_n']\n",
    "            lift_df['cum_lift'] = ((lift_df['cum_positives'] * 1.0) / lift_df['cum_n']) / base_rate\n",
    "            \n",
    "        lift_df['model'] = x\n",
    "        lift_dict[x] = lift_df\n",
    "        \n",
    "    keys = list(lift_dict.keys())\n",
    "    \n",
    "    # initialize dataframe with first model\n",
    "    lift_frame = pd.DataFrame(lift_dict[keys[0]])\n",
    "    \n",
    "    for key in keys[1:]:\n",
    "        lift_frame = pd.concat([lift_frame, lift_dict[key]])\n",
    "        \n",
    "    return list([lift_dict, lift_frame])"
   ]
  },
  {
   "cell_type": "markdown",
   "metadata": {},
   "source": [
    "## Model Lift\n",
    "\n",
    "Takes a pandas DataFrame as input with a true class and predicted probabilites. Calculates the lift for each model given a specified number of samples. "
   ]
  },
  {
   "cell_type": "code",
   "execution_count": 3,
   "metadata": {
    "collapsed": true
   },
   "outputs": [],
   "source": [
    "def model_lift(df, true_class, n):\n",
    "    \n",
    "    df = df.copy()\n",
    "    base_rate = df[true_class].sum() / df[true_class].count()\n",
    "    \n",
    "    '''\n",
    "    Need to move the true class to the front of the dataframe\n",
    "    '''\n",
    "    \n",
    "    temp_class = df[true_class]\n",
    "    \n",
    "    if 'true_class' in df:\n",
    "        df.drop('true_class', axis = 1, inplace = True)\n",
    "    else:\n",
    "        df.drop(true_class, axis = 1, inplace = True)\n",
    "        \n",
    "    df.insert(0, 'true_class', temp_class)\n",
    "    del temp_class\n",
    "    \n",
    "    lift_dict = {}\n",
    "    \n",
    "    for col in df.columns[1:]:\n",
    "        true_pos = df.sort_values(by = col, ascending = False).iloc[0:n-1, 0].sum()\n",
    "        expected_pos = base_rate * n\n",
    "        lift_dict[col] = '%.2f'%(true_pos / expected_pos)\n",
    "        \n",
    "    return lift_dict"
   ]
  }
 ],
 "metadata": {
  "kernelspec": {
   "display_name": "Python 3",
   "language": "python",
   "name": "python3"
  },
  "language_info": {
   "codemirror_mode": {
    "name": "ipython",
    "version": 3
   },
   "file_extension": ".py",
   "mimetype": "text/x-python",
   "name": "python",
   "nbconvert_exporter": "python",
   "pygments_lexer": "ipython3",
   "version": "3.6.0"
  }
 },
 "nbformat": 4,
 "nbformat_minor": 2
}
